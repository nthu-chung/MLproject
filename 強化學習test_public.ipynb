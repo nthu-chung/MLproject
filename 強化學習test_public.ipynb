{
  "cells": [
    {
      "cell_type": "code",
      "execution_count": null,
      "metadata": {
        "id": "cCHiBqLvJCNz"
      },
      "outputs": [],
      "source": [
        "# Gym stuff\n",
        "import gym\n",
        "import gym_anytrading\n",
        "\n",
        "# Stable baselines - rl stuff\n",
        "import stable_baselines3\n",
        "from stable_baselines3.td3.policies import CnnPolicy, MlpPolicy, MultiInputPolicy\n",
        "from stable_baselines3 import PPO #更改模型用\n",
        "import tf_slim as tf_layers\n",
        "\n",
        "\n",
        "# Processing libraries\n",
        "import numpy as np\n",
        "import pandas as pd\n",
        "from matplotlib import pyplot as plt\n",
        "import ccxt\n",
        "import talib\n",
        "\n",
        "\n",
        "\n",
        "#第一次執行此程式請先至下方https://colab.research.google.com/drive/1xnUcfuuu4FdAImuOkr0IghI-cM53cC7x#scrollTo=_WhNGTvpJGNu&line=1&uniqifier=1 使用硬碟掛載並且把pip install完成才可以使用全部功能\n",
        "#exchange_id = 'bybit'\n",
        "\n",
        "#This is for sandbox in testnet\n",
        "exchange = ccxt.bybit({\n",
        "    'enableRateLimit': True,\n",
        "    'apiKey': 'Your API key',\n",
        "    'secret': 'Your API secret key',\n",
        "    })\n",
        "exchange.set_sandbox_mode(True) #使用測試網\n",
        "\n",
        "#This is for real-time trading\n",
        "#exchange_class = getattr(ccxt, exchange_id)\n",
        "#exchange = exchange_class({\n",
        "#    'apiKey': 'Your API key',\n",
        "#    'secret': 'Your API secret key',\n",
        "#})\n",
        "\n",
        "buy_leverage = 5    #做多槓桿\n",
        "sell_leverage = 5   #做空槓桿\n",
        "order = exchange.fetch_ticker('SOLUSDT')\n",
        "\n",
        "bars = exchange.fetch_ohlcv('SOLUSDT', timeframe='1m', limit=10000) \n",
        "df = pd.DataFrame(bars[:-1], columns=['timestamp', 'Open', 'High', 'Low', 'Close', 'Volume'])\n",
        "df['timestamp'] = pd.to_datetime(df['timestamp'], unit='ms')\n",
        "env = gym.make('stocks-v0', df=df, frame_bound=(5,100), window_size=5)\n",
        "model = PPO(\"MlpPolicy\", env, verbose=1) #更改模型\n",
        "model.learn(total_timesteps=10_000)\n",
        "obs = env.reset()\n",
        "while True: \n",
        "    obs = obs[np.newaxis, ...]\n",
        "    action, _states = model.predict(obs)\n",
        "    obs, rewards, done, info = env.step(action)\n",
        "    if done:\n",
        "        print(\"info\", info)\n",
        "        break\n",
        "plt.figure(figsize=(15,6))\n",
        "plt.cla()\n",
        "env.render_all()\n",
        "plt.xlabel(\"frame bound\")\n",
        "plt.ylabel(\"Price\")\n",
        "plt.show()\n",
        "\n",
        "\n"
      ]
    },
    {
      "cell_type": "code",
      "execution_count": null,
      "metadata": {
        "id": "_WhNGTvpJGNu",
        "colab": {
          "base_uri": "https://localhost:8080/"
        },
        "outputId": "d57a86dd-26e9-4da8-c0a7-6ecaa71d3ff8"
      },
      "outputs": [
        {
          "output_type": "stream",
          "name": "stdout",
          "text": [
            "Drive already mounted at /content/drive; to attempt to forcibly remount, call drive.mount(\"/content/drive\", force_remount=True).\n"
          ]
        }
      ],
      "source": [
        "import os, sys\n",
        "from google.colab import drive\n",
        "drive.mount('/content/drive')\n",
        "nb_path = '/content/notebooks'\n",
        "os.symlink('/content/drive/My Drive/Colab Notebooks', nb_path)\n",
        "sys.path.insert(0,nb_path)\n"
      ]
    },
    {
      "cell_type": "code",
      "source": [
        "pip install stable-baselines3[extra]"
      ],
      "metadata": {
        "id": "PTmzDQ5gw7pK"
      },
      "execution_count": null,
      "outputs": []
    },
    {
      "cell_type": "code",
      "source": [
        "!pip install backtesting"
      ],
      "metadata": {
        "id": "8g6stp7JDBQU"
      },
      "execution_count": null,
      "outputs": []
    },
    {
      "cell_type": "code",
      "execution_count": null,
      "metadata": {
        "id": "_n5B8WIrSdHr"
      },
      "outputs": [],
      "source": [
        "!pip install gym"
      ]
    },
    {
      "cell_type": "code",
      "execution_count": null,
      "metadata": {
        "id": "A8oRykN1SWoH"
      },
      "outputs": [],
      "source": [
        "!pip install schedule"
      ]
    },
    {
      "cell_type": "code",
      "execution_count": null,
      "metadata": {
        "id": "DzkDyPSURvaH"
      },
      "outputs": [],
      "source": [
        "!pip install ccxt"
      ]
    },
    {
      "cell_type": "code",
      "execution_count": null,
      "metadata": {
        "id": "mrMniAZhR4m6"
      },
      "outputs": [],
      "source": [
        "!pip install talib-binary #use this to download talib!"
      ]
    }
  ],
  "metadata": {
    "colab": {
      "collapsed_sections": [],
      "name": "強化學習test_public.ipynb",
      "provenance": []
    },
    "kernelspec": {
      "display_name": "Python 3",
      "name": "python3"
    },
    "language_info": {
      "name": "python"
    }
  },
  "nbformat": 4,
  "nbformat_minor": 0
}