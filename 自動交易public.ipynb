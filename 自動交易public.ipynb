{
  "cells": [
    {
      "cell_type": "code",
      "execution_count": null,
      "metadata": {
        "id": "cCHiBqLvJCNz"
      },
      "outputs": [],
      "source": [
        "import ccxt\n",
        "import schedule\n",
        "import talib\n",
        "import numpy as np\n",
        "import pandas as pd\n",
        "from datetime import datetime\n",
        "import time\n",
        "import pybit\n",
        "import math\n",
        "\n",
        "\n",
        "#第一次執行此程式請先至下方https://colab.research.google.com/drive/1xnUcfuuu4FdAImuOkr0IghI-cM53cC7x#scrollTo=_WhNGTvpJGNu&line=1&uniqifier=1 使用硬碟掛載並且把pip install完成才可以使用全部功能\n",
        "#exchange_id = 'bybit'\n",
        "\n",
        "#This is for sandbox in testnet\n",
        "exchange = ccxt.bybit({\n",
        "    'enableRateLimit': True,\n",
        "    'apiKey': 'Your API key',\n",
        "    'secret': 'Your API secret key',\n",
        "    })\n",
        "exchange.set_sandbox_mode(True) #使用測試網\n",
        "\n",
        "#This is for real-time trading\n",
        "#exchange_class = getattr(ccxt, exchange_id)\n",
        "#exchange = exchange_class({\n",
        "#    'apiKey': 'Your API key',\n",
        "#    'secret': 'Your API secret key',\n",
        "#})\n",
        "\n",
        "buy_leverage = 5    #做多槓桿\n",
        "sell_leverage = 5   #做空槓桿\n",
        "order = exchange.fetch_ticker('SOLUSDT')\n",
        "\n",
        "tp_buy = round(order[\"last\"]*(1+0.1/buy_leverage),2)    #做多預計止盈幾%\n",
        "sl_buy = round(order[\"last\"]*(1-0.1/buy_leverage),2)    #做多預計止損幾%\n",
        "tp_sell = round(order[\"last\"]*(1-0.1/sell_leverage),2)  #做空預計止盈幾%\n",
        "sl_sell = round(order[\"last\"]*(1+0.1/sell_leverage),2)  #做空預計止損幾%\n",
        "params_buy = {\n",
        "    #\"side\" : \"Buy\",\n",
        "    #\"order_type\":\"Limit\",\n",
        "    \"qty\":1,\n",
        "    \"take_profit\": tp_buy,\n",
        "    \"stop_loss\": sl_buy,\n",
        "    \"trailing_stop\": 0,\n",
        "    \"time_in_force\":\"GoodTillCancel\"\n",
        "}\n",
        "params_sell = {\n",
        "    #\"side\" : \"Buy\",\n",
        "    #\"order_type\":\"Limit\",\n",
        "    \"qty\":1,\n",
        "    \"take_profit\": tp_sell,\n",
        "    \"stop_loss\": sl_sell,\n",
        "    \"trailing_stop\": 0,\n",
        "    \"time_in_force\":\"GoodTillCancel\"\n",
        "}\n",
        "\n",
        "#exchange.createMarketOrder(\"APEUSDT\",\"Buy\", 5,)\n",
        "def check_buy_sell_signals(df):\n",
        "    print(\"checking for buy and sell signals\")\n",
        "    percent = (df['close']-df['open']) / df['open'] #percent是series 必須設定特定位置為最後一個K棒\n",
        "    #print(percent)\n",
        "    if percent[3] >= 0.005:\n",
        "        exchange.createMarketBuyOrder (\"SOLUSDT\",0, params_buy)\n",
        "        print(\"makeorder\")\n",
        "        \n",
        "        time.sleep(60*15)\n",
        "    if percent[3] <= -0.005:\n",
        "        exchange.createMarketSellOrder (\"SOLUSDT\",0, params_sell)\n",
        "        print(\"makeorder\")\n",
        "        time.sleep(60*15)\n",
        "    else:\n",
        "        print(\"waiting\")\n",
        "        \n",
        "def run_bot():\n",
        "    print(f\"Fetching new bars for {datetime.now().isoformat()}\")\n",
        "    bars = exchange.fetch_ohlcv('SOLUSDT', timeframe='15m', limit=5)\n",
        "    df = pd.DataFrame(bars[:-1], columns=['timestamp', 'open', 'high', 'low', 'close', 'volume'])\n",
        "    df.insert(6,'percent',value = (df['close']-df['open']) / df['open'])\n",
        "    df['timestamp'] = pd.to_datetime(df['timestamp'], unit='ms')\n",
        "    print(df)\n",
        "    check_buy_sell_signals(df)\n",
        "    \n",
        "    \n",
        "\n",
        "#print(order[\"last\"])# float type 最新價格 注意order有兩個字典 選第一層就好\n",
        "\n",
        "\n",
        "\n",
        "\n",
        "#print(exchange.id, exchange.load_markets())\n",
        "while True:\n",
        "    run_bot()\n",
        "    time.sleep(60)\n",
        "\n",
        "\n"
      ]
    },
    {
      "cell_type": "code",
      "execution_count": null,
      "metadata": {
        "id": "_WhNGTvpJGNu",
        "colab": {
          "base_uri": "https://localhost:8080/"
        },
        "outputId": "d57a86dd-26e9-4da8-c0a7-6ecaa71d3ff8"
      },
      "outputs": [
        {
          "output_type": "stream",
          "name": "stdout",
          "text": [
            "Drive already mounted at /content/drive; to attempt to forcibly remount, call drive.mount(\"/content/drive\", force_remount=True).\n"
          ]
        }
      ],
      "source": [
        "import os, sys\n",
        "from google.colab import drive\n",
        "drive.mount('/content/drive')\n",
        "nb_path = '/content/notebooks'\n",
        "os.symlink('/content/drive/My Drive/Colab Notebooks', nb_path)\n",
        "sys.path.insert(0,nb_path)\n"
      ]
    },
    {
      "cell_type": "code",
      "source": [
        "!pip install backtesting"
      ],
      "metadata": {
        "id": "8g6stp7JDBQU"
      },
      "execution_count": null,
      "outputs": []
    },
    {
      "cell_type": "code",
      "execution_count": null,
      "metadata": {
        "id": "_n5B8WIrSdHr"
      },
      "outputs": [],
      "source": [
        "!pip install pybit"
      ]
    },
    {
      "cell_type": "code",
      "execution_count": null,
      "metadata": {
        "id": "A8oRykN1SWoH"
      },
      "outputs": [],
      "source": [
        "!pip install schedule"
      ]
    },
    {
      "cell_type": "code",
      "execution_count": null,
      "metadata": {
        "id": "DzkDyPSURvaH"
      },
      "outputs": [],
      "source": [
        "!pip install ccxt"
      ]
    },
    {
      "cell_type": "code",
      "execution_count": null,
      "metadata": {
        "id": "mrMniAZhR4m6"
      },
      "outputs": [],
      "source": [
        "!pip install talib-binary #use this to download talib!"
      ]
    }
  ],
  "metadata": {
    "colab": {
      "collapsed_sections": [],
      "name": "自動交易public.ipynb",
      "provenance": []
    },
    "kernelspec": {
      "display_name": "Python 3",
      "name": "python3"
    },
    "language_info": {
      "name": "python"
    }
  },
  "nbformat": 4,
  "nbformat_minor": 0
}